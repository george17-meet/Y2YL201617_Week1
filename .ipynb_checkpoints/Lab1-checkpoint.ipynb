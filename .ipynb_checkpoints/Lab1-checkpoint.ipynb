{
 "metadata": {
  "kernelspec": {
   "display_name": "Python [Root]",
   "language": "python",
   "name": "Python [Root]"
  },
  "language_info": {
   "codemirror_mode": {
    "name": "ipython",
    "version": 3
   },
   "file_extension": ".py",
   "mimetype": "text/x-python",
   "name": "python",
   "nbconvert_exporter": "python",
   "pygments_lexer": "ipython3",
   "version": "3.5.2"
  },
  "name": "",
  "signature": "sha256:1278d7d5180c71f9b2e4a368b799c5904f9b2967bd46b447951b4f736f25ae06"
 },
 "nbformat": 3,
 "nbformat_minor": 0,
 "worksheets": [
  {
   "cells": [
    {
     "cell_type": "heading",
     "level": 1,
     "metadata": {},
     "source": [
      "Week 1 Activity"
     ]
    },
    {
     "cell_type": "markdown",
     "metadata": {},
     "source": [
      "Today, you will get some practice using [Juptyer](http://jupyter.org/) (commonly known as iPython Notebook) and learning some of the cool features is has."
     ]
    },
    {
     "cell_type": "markdown",
     "metadata": {},
     "source": [
      "Part 1 - Markdown"
     ]
    },
    {
     "cell_type": "markdown",
     "metadata": {},
     "source": [
      "Markdown is a lightweight markup language with plain text formatting syntax designed so that it can be converted to HTML and many other formats. Markdown is often used to format readme files, for writing messages in online discussion forums, and to create rich text using a plain text editor. You can read more about it [here](https://en.wikipedia.org/wiki/Markdown).  In addition to Python and many other programming languages, iPython notebook supports adding Markdown to make your code and analysis easy to follow.  To insert Markdown into your ipython notebook press the \"ESC\" key twice and then press \"m\". When you are finished, press \"Shift+Enter\" to render the markdown code into text."
     ]
    },
    {
     "cell_type": "markdown",
     "metadata": {},
     "source": [
      "## Turn the following Python comment into Markdown code by hitting the 'esc' key twice and then 'm'"
     ]
    },
    {
     "cell_type": "markdown",
     "metadata": {},
     "source": [
      "### Paragraphs\n",
      "\n",
      "# Heading 1\n",
      "## Heading 2\n",
      "### Heading 3\n",
      "#### Heading 4\n",
      "#Hi grace\n",
      "#####Hi\n",
      "## are you sure about that?\n",
      "\n",
      "####*insert meme here by Lorenzo*\n",
      "\n",
      "Practice using these headings in the lines below. Use the \"+\" button to add a new line of code."
     ]
    },
    {
     "cell_type": "markdown",
     "metadata": {},
     "source": [
      "## HTML Backwards compatibility\n",
      "\n",
      "Markdown formatting also lets you switch back and forth between traditional markdown and HTML.  I can make something bold with __double underscores__ or by using the <b>B HTML Tag</b>. Practice using this and see if you can figure out how to make italics as well.\n",
      "\n",
      "**__HHHHHHHHHHHSTRGXSHSGDTJTRF__** << Grace was here<br>\n",
      "_hi_"
     ]
    },
    {
     "cell_type": "markdown",
     "metadata": {},
     "source": [
      "## Exploring Documentation\n",
      "\n",
      "Check out the [markdown documentation](https://daringfireball.net/projects/markdown/syntax) and show one other feature of markdown you discovered. Provide an example of it below:"
     ]
    },
    {
     "cell_type": "markdown",
     "metadata": {},
     "source": [
      "* test"
     ]
    },
    {
     "cell_type": "markdown",
     "metadata": {},
     "source": [
      "> lol hi grace xd\n",
      ">>>How are you? <br>\n",
      "> Nothing much, just MEmeing around"
     ]
    },
    {
     "cell_type": "markdown",
     "metadata": {},
     "source": [
      "## Part II: Using Python\n",
      "\n",
      "iPython Notebook is great for Markdown but is mainly used for executing code.  In the line below execute the python code provided by pressing \"Shift+Enter\""
     ]
    },
    {
     "cell_type": "code",
     "collapsed": false,
     "input": [
      "a = \"I'll tell you want I want\"\n",
      "b = \" what I really really want\"\n",
      "\n",
      "print (a + ',' + b)"
     ],
     "language": "python",
     "metadata": {},
     "outputs": [],
     "prompt_number": null
    },
    {
     "cell_type": "heading",
     "level": 3,
     "metadata": {},
     "source": [
      "Okay, now it's  your turn, remember for loops? Make a list of items of all the things you and your partner have eaten today and loop through printing each item. "
     ]
    },
    {
     "cell_type": "code",
     "collapsed": true,
     "input": [
      "food_items = [\"potato\", \"electricity\", \"somehow\", \"idc\", \"rice\", \"you are stupid\"]\n",
      "\n",
      "for item in food_items:\n",
      "    print(\" Grace ate \"+item)\n",
      "    \n",
      "    "
     ],
     "language": "python",
     "metadata": {},
     "outputs": [
      {
       "output_type": "stream",
       "stream": "stdout",
       "text": [
        " Grace ate potato\n",
        " Grace ate electricity\n",
        " Grace ate somehow\n",
        " Grace ate idc\n",
        " Grace ate rice\n",
        " Grace ate you are stupid\n"
       ]
      }
     ],
     "prompt_number": 5
    },
    {
     "cell_type": "heading",
     "level": 3,
     "metadata": {},
     "source": [
      "You can even make functions and use them for later"
     ]
    },
    {
     "cell_type": "code",
     "collapsed": true,
     "input": [
      "def flipIt(word):\n",
      "    newwordlst = list(word)\n",
      "    for index, letter in enumerate(list(word)):\n",
      "        newwordlst[len(word)-index-1] = letter\n",
      "    return str(''.join(newwordlst))"
     ],
     "language": "python",
     "metadata": {},
     "outputs": [],
     "prompt_number": 34
    },
    {
     "cell_type": "code",
     "collapsed": false,
     "input": [
      "print(\"your name spelled backwards is \" + str(flipIt(\"Lorenzo\")) + \".\")"
     ],
     "language": "python",
     "metadata": {},
     "outputs": [
      {
       "output_type": "stream",
       "stream": "stdout",
       "text": [
        "your name spelled backwards is ozneroL.\n"
       ]
      }
     ],
     "prompt_number": 36
    },
    {
     "cell_type": "heading",
     "level": 3,
     "metadata": {},
     "source": [
      "Make a different function and call it later on in your iPython Notebook"
     ]
    },
    {
     "cell_type": "code",
     "collapsed": true,
     "input": [
      "def Pen(word):\n",
      "    print (\"I have a pen, I have a \"+word+\", uhhh, \"+word+\"pen!\")"
     ],
     "language": "python",
     "metadata": {},
     "outputs": [],
     "prompt_number": 8
    },
    {
     "cell_type": "code",
     "collapsed": true,
     "input": [
      "Pen(\"grace\")"
     ],
     "language": "python",
     "metadata": {},
     "outputs": [
      {
       "output_type": "stream",
       "stream": "stdout",
       "text": [
        "I have a pen, I have a grace, uhhh, gracepen!\n"
       ]
      }
     ],
     "prompt_number": 10
    },
    {
     "cell_type": "heading",
     "level": 2,
     "metadata": {},
     "source": [
      "Part III: Y2 Summer Review"
     ]
    },
    {
     "cell_type": "heading",
     "level": 3,
     "metadata": {},
     "source": [
      "What is a Lean Canvas? Why do we use it?  Describe at least 4 of the boxes in the lean canvas and an example of each one."
     ]
    },
    {
     "cell_type": "markdown",
     "metadata": {},
     "source": [
      ">The name is Canvas, LEAAAAN CANVAS  <br>\n",
      ">The canvas is something that we use to show our start up to potential investors <br>\n",
      "- Revenue: Where we get our money from to fund our so called company<br>\n",
      "- Customer segment: Which customers your target with your product<br>\n",
      "- Solution: The solution to the problem that your company is trying to solve<br>\n",
      "- Problem: The problem you want to tackle with your company/startup<br>\n",
      "            "
     ]
    },
    {
     "cell_type": "heading",
     "level": 3,
     "metadata": {},
     "source": [
      "What is the difference between a GET and POST request? When should I use each one?"
     ]
    },
    {
     "cell_type": "markdown",
     "metadata": {},
     "source": [
      "**A GET request asks for the server to show some data, but the POST sends data to the server!**<br>\n",
      "_Like if you want to show stuff to Lorenzo, you POST, but when Lorenzo shows you stuff, you GET. GET it?_<br>\n",
      "You also do POSTS on facebook, you know.<br>\n",
      "And you GET data from facebook's server..."
     ]
    },
    {
     "cell_type": "heading",
     "level": 3,
     "metadata": {},
     "source": [
      "How are you feeling about Y2 Yearlong? What are some things you would like to get out of this yearlong? "
     ]
    },
    {
     "cell_type": "markdown",
     "metadata": {},
     "source": [
      "I dont know, ask Grace?<br>\n",
      "Well, i would like to have some fun in CS lesson!! <br>"
     ]
    },
    {
     "cell_type": "markdown",
     "metadata": {},
     "source": [
      "Commit your code changes, push to your GitHub Repository and submit a pull request to the original repo. "
     ]
    }
   ],
   "metadata": {}
  }
 ]
}